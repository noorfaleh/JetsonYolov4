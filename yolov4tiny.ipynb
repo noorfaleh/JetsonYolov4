{
  "nbformat": 4,
  "nbformat_minor": 0,
  "metadata": {
    "colab": {
      "name": "yolov4tiny.ipynb",
      "private_outputs": true,
      "provenance": [],
      "authorship_tag": "ABX9TyPt5clyFQZ8CwQA8C1qnXcT",
      "include_colab_link": true
    },
    "kernelspec": {
      "name": "python3",
      "display_name": "Python 3"
    },
    "accelerator": "GPU"
  },
  "cells": [
    {
      "cell_type": "markdown",
      "metadata": {
        "id": "view-in-github",
        "colab_type": "text"
      },
      "source": [
        "<a href=\"https://colab.research.google.com/github/noorfaleh/JetsonYolov4/blob/main/yolov4tiny.ipynb\" target=\"_parent\"><img src=\"https://colab.research.google.com/assets/colab-badge.svg\" alt=\"Open In Colab\"/></a>"
      ]
    },
    {
      "cell_type": "code",
      "metadata": {
        "id": "5uloUwmUKF05"
      },
      "source": [
        "# verify CUDA\n",
        "!/usr/local/cuda/bin/nvcc --version"
      ],
      "execution_count": null,
      "outputs": []
    },
    {
      "cell_type": "code",
      "metadata": {
        "id": "ucOr-01xMikW"
      },
      "source": [
        "#take a look at the kind of GPU we have\n",
        "!nvidia-smi"
      ],
      "execution_count": null,
      "outputs": []
    },
    {
      "cell_type": "code",
      "metadata": {
        "id": "ifdq_2rCMsUv"
      },
      "source": [
        "%cd /content/\n",
        "%rm -rf darknet"
      ],
      "execution_count": null,
      "outputs": []
    },
    {
      "cell_type": "code",
      "metadata": {
        "id": "68eMertgIxaB"
      },
      "source": [
        "# clone darknet repo\n",
        "!git clone https://github.com/AlexeyAB/darknet"
      ],
      "execution_count": null,
      "outputs": []
    },
    {
      "cell_type": "code",
      "metadata": {
        "id": "xym8_m8CIyXK"
      },
      "source": [
        "# change makefile to have GPU and OPENCV enabled\n",
        "%cd darknet\n",
        "!sed -i 's/OPENCV=0/OPENCV=1/' Makefile\n",
        "!sed -i 's/GPU=0/GPU=1/' Makefile\n",
        "!sed -i 's/CUDNN=0/CUDNN=1/' Makefile\n",
        "!sed -i 's/CUDNN_HALF=0/CUDNN_HALF=1/' Makefile"
      ],
      "execution_count": null,
      "outputs": []
    },
    {
      "cell_type": "code",
      "metadata": {
        "id": "QyMBDkaL-Aep"
      },
      "source": [
        "#install environment from the Makefile\n",
        "%cd /darknet/\n",
        "# compute_30, sm_30 for Tesla K80\n",
        "# compute_75, sm_75 for Tesla T4\n",
        "# !sed -i 's/ARCH= -gencode arch=compute_60,code=sm_60/ARCH= -gencode arch=compute_30,code=sm_30/g' Makefile\n",
        "\n",
        "#install environment from the Makefile\n",
        "#note if you are on Colab Pro this works on a P100 GPU\n",
        "#if you are on Colab free, you may need to change the Makefile for the K80 GPU\n",
        "#this goes for any GPU, you need to change the Makefile to inform darknet which GPU you are running on.\n",
        "!make"
      ],
      "execution_count": null,
      "outputs": []
    },
    {
      "cell_type": "code",
      "metadata": {
        "id": "Qs8vZ5uK7Ry9"
      },
      "source": [
        "repo_url = 'https://github.com/noorfaleh/yolov4tiny.git'\n",
        "import os\n",
        "%cd /content\n",
        "repo_dir_path = os.path.abspath(os.path.join('.', os.path.basename(repo_url)))\n",
        "!git clone {repo_url}\n",
        "%cd {repo_dir_path}\n"
      ],
      "execution_count": null,
      "outputs": []
    },
    {
      "cell_type": "code",
      "metadata": {
        "id": "FzoJQQw8Zdco"
      },
      "source": [
        "#define utility function\n",
        "def imShow(path):\n",
        "  import cv2\n",
        "  import matplotlib.pyplot as plt\n",
        "  %matplotlib inline\n",
        "\n",
        "  image = cv2.imread(path)\n",
        "  height, width = image.shape[:2]\n",
        "  resized_image = cv2.resize(image,(3*width, 3*height), interpolation = cv2.INTER_CUBIC)\n",
        "\n",
        "  fig = plt.gcf()\n",
        "  fig.set_size_inches(18, 10)\n",
        "  plt.axis(\"off\")\n",
        "  #plt.rcParams['figure.figsize'] = [10, 5]\n",
        "  plt.imshow(cv2.cvtColor(resized_image, cv2.COLOR_BGR2RGB))\n",
        "  plt.show()"
      ],
      "execution_count": null,
      "outputs": []
    },
    {
      "cell_type": "code",
      "metadata": {
        "id": "dHz-T_uqO417"
      },
      "source": [
        "labels_path = '/content/yolov4tiny/obj.names'\n",
        "#make a list of your labels\n",
        "labels = ['noormask','noornomask','muhammad','AbdulAzim','turki','harution','AliAhmed','ghaida','fatima','wassan','hanadi','athil','heba','israa','emad','amjad','muhammad','dina','hassanein']\n",
        "# labels = ['good','bad']\n",
        "\n",
        "with open(labels_path, 'w') as f:\n",
        "\n",
        "    f.write('\\n'.join(labels))\n",
        "\n",
        "#check that the labels file is correct\n",
        "!cat /content/yolov4tiny/obj.names"
      ],
      "execution_count": null,
      "outputs": []
    },
    {
      "cell_type": "code",
      "metadata": {
        "id": "71FvOdrKO1QO"
      },
      "source": [
        "import re\n",
        "objdata = '/content/yolov4tiny/obj.data'\n",
        "with open(objdata) as f:\n",
        "    s = f.read()\n",
        "\n",
        "#the number of classes is equal to the number of labels\n",
        "num_classes = len(labels)   \n",
        "s = re.sub('classes = \\d*','classes = ' + str(num_classes),s)\n",
        "\n",
        "with open(objdata, 'w') as f:\n",
        "  f.write(s)\n",
        "!cat /content/yolov4tiny/obj.data"
      ],
      "execution_count": null,
      "outputs": []
    },
    {
      "cell_type": "code",
      "metadata": {
        "id": "MKS78ExHOp71"
      },
      "source": [
        "# set the number of max_batches - min 2000 per class:\n",
        "max_batch=4000\n",
        "# calculate the 2 steps values:\n",
        "step1 = 0.8 * max_batch\n",
        "step2 = 0.9 * max_batch\n",
        "\n",
        "# we also need to adjust the number of classes and a parameter called filter size \n",
        "# that are both is inside the model structure\n",
        "\n",
        "# num_classes = len(labels)\n",
        "num_filters = (num_classes + 5) * 3\n",
        "\n",
        "\n",
        "#cfg_file = '/content/yolov4tiny/yolov3-tiny_obj.cfg'\n",
        "cfg_file = '/content/yolov4tiny/yolov4-tiny.cfg'\n",
        "\n",
        "with open(cfg_file) as f:\n",
        "    s = f.read()\n",
        "# (re.sub('[a-z]*@', 'ABC@', s))\n",
        "s = re.sub('max_batches = \\d*','max_batches = '+str(max_batch),s)\n",
        "s = re.sub('steps=\\d*,\\d*','steps='+\"{:.0f}\".format(step1)+','+\"{:.0f}\".format(step2),s)\n",
        "s = re.sub('classes=\\d*','classes='+str(num_classes),s)\n",
        "s = re.sub('pad=1\\nfilters=\\d*','pad=1\\nfilters='+\"{:.0f}\".format(num_filters),s)\n",
        "# pad=1\\nfilters=\\d\\d\n",
        "# s = re.sub('CUDNN=0','CUDNN=1',s)\n",
        "# s = re.sub('OPENCV=0','OPENCV=1',s)\n",
        "\n",
        "with open(cfg_file, 'w') as f:\n",
        "  # s = re.sub('GPU=0','GPU=1',s)\n",
        "  f.write(s)\n"
      ],
      "execution_count": null,
      "outputs": []
    },
    {
      "cell_type": "code",
      "metadata": {
        "id": "tdt4WtP9kpm8"
      },
      "source": [
        "%cd ./darknet/\n",
        "!./darknet detector train /content/yolov4tiny/obj.data /content/yolov4tiny/yolov4-tiny.cfg /content/yolov4tiny/yolov4-tiny.conv.29 -dont_show -ext_output -map"
      ],
      "execution_count": null,
      "outputs": []
    }
  ]
}